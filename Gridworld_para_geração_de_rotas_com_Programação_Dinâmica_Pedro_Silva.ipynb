{
  "nbformat": 4,
  "nbformat_minor": 0,
  "metadata": {
    "colab": {
      "provenance": [],
      "authorship_tag": "ABX9TyPwTXb5wMa6RCUYk8NPcWd9",
      "include_colab_link": true
    },
    "kernelspec": {
      "name": "python3",
      "display_name": "Python 3"
    },
    "language_info": {
      "name": "python"
    }
  },
  "cells": [
    {
      "cell_type": "markdown",
      "metadata": {
        "id": "view-in-github",
        "colab_type": "text"
      },
      "source": [
        "<a href=\"https://colab.research.google.com/github/pedrogfsilva/Gridworld-para-gera-o-de-rotas-com-Programa-o-Din-mica/blob/main/Gridworld_para_gera%C3%A7%C3%A3o_de_rotas_com_Programa%C3%A7%C3%A3o_Din%C3%A2mica_Pedro_Silva.ipynb\" target=\"_parent\"><img src=\"https://colab.research.google.com/assets/colab-badge.svg\" alt=\"Open In Colab\"/></a>"
      ]
    },
    {
      "cell_type": "markdown",
      "source": [
        "Instalação e importação das bibliotecas utilizadas no código"
      ],
      "metadata": {
        "id": "00pZZLw44fUx"
      }
    },
    {
      "cell_type": "code",
      "execution_count": null,
      "metadata": {
        "colab": {
          "base_uri": "https://localhost:8080/"
        },
        "id": "Y1nOgjj_mCOv",
        "outputId": "c83955f4-1887-448b-cd99-6b2f79188374"
      },
      "outputs": [
        {
          "output_type": "stream",
          "name": "stdout",
          "text": [
            "Requirement already satisfied: matplotlib in /usr/local/lib/python3.10/dist-packages (3.7.1)\n",
            "Requirement already satisfied: contourpy>=1.0.1 in /usr/local/lib/python3.10/dist-packages (from matplotlib) (1.2.0)\n",
            "Requirement already satisfied: cycler>=0.10 in /usr/local/lib/python3.10/dist-packages (from matplotlib) (0.12.1)\n",
            "Requirement already satisfied: fonttools>=4.22.0 in /usr/local/lib/python3.10/dist-packages (from matplotlib) (4.49.0)\n",
            "Requirement already satisfied: kiwisolver>=1.0.1 in /usr/local/lib/python3.10/dist-packages (from matplotlib) (1.4.5)\n",
            "Requirement already satisfied: numpy>=1.20 in /usr/local/lib/python3.10/dist-packages (from matplotlib) (1.25.2)\n",
            "Requirement already satisfied: packaging>=20.0 in /usr/local/lib/python3.10/dist-packages (from matplotlib) (23.2)\n",
            "Requirement already satisfied: pillow>=6.2.0 in /usr/local/lib/python3.10/dist-packages (from matplotlib) (9.4.0)\n",
            "Requirement already satisfied: pyparsing>=2.3.1 in /usr/local/lib/python3.10/dist-packages (from matplotlib) (3.1.1)\n",
            "Requirement already satisfied: python-dateutil>=2.7 in /usr/local/lib/python3.10/dist-packages (from matplotlib) (2.8.2)\n",
            "Requirement already satisfied: six>=1.5 in /usr/local/lib/python3.10/dist-packages (from python-dateutil>=2.7->matplotlib) (1.16.0)\n"
          ]
        }
      ],
      "source": [
        "# instalando a biblioteca matplotlib para visualizar o grid\n",
        "!pip install matplotlib"
      ]
    },
    {
      "cell_type": "code",
      "source": [
        "# importando matplotlib, numpy e random que nos ajuda a visualizar o grid, manipular o grid e a gerar números aleatórios, respectivamente\n",
        "import matplotlib.pyplot as plt\n",
        "import numpy as np\n",
        "import random"
      ],
      "metadata": {
        "id": "dWvOkHaUmYK6"
      },
      "execution_count": null,
      "outputs": []
    },
    {
      "cell_type": "markdown",
      "source": [
        "Implementação do grid e Função para visualização do grid"
      ],
      "metadata": {
        "id": "V4PVq3EK5cLj"
      }
    },
    {
      "cell_type": "code",
      "source": [
        "def desenhar_grid(grid):\n",
        "    # Defini o tamanho da figura, no nosso caso de 8x8\n",
        "    plt.figure(figsize=(8, 8))\n",
        "\n",
        "    # Desenha as linhas do grid\n",
        "    for i in range(len(grid) + 1):\n",
        "        plt.axhline(i, color='black', lw=1)\n",
        "        plt.axvline(i, color='black', lw=1)\n",
        "\n",
        "    # Preenche as células do grid\n",
        "    for i in range(len(grid)):\n",
        "        for j in range(len(grid[i])):\n",
        "            if grid[i][j] == 1:  # Definindo célula de inicio com a cor azul\n",
        "                plt.fill_between([j, j + 1], [i, i], [i + 1, i + 1], color='blue')\n",
        "            elif grid[i][j] == 2:  # Definindo a montanha com a cor cinza\n",
        "                plt.fill_between([j, j + 1], [i, i], [i + 1, i + 1], color='grey')\n",
        "            elif grid[i][j] == 3:  # Definindo a areia movediça com a cor vermelha\n",
        "                plt.fill_between([j, j + 1], [i, i], [i + 1, i + 1], color='red')\n",
        "            elif grid[i][j] == 4:  # Definindo célula de chegada com a cor verde\n",
        "                plt.fill_between([j, j + 1], [i, i], [i + 1, i + 1], color='green')\n",
        "\n",
        "    # Configura os limites do gráfico\n",
        "    plt.xlim(0, len(grid))\n",
        "    plt.ylim(0, len(grid))\n",
        "    plt.gca().invert_yaxis()\n",
        "    plt.show()"
      ],
      "metadata": {
        "id": "njQcFwyVmbpm"
      },
      "execution_count": null,
      "outputs": []
    },
    {
      "cell_type": "code",
      "source": [
        "# Grid de 8x8\n",
        "grid = np.zeros((8, 8))\n",
        "\n",
        "# Definindo as células de inicio (1), montanha (2), areia movediça (3) e célula de chegada (4)\n",
        "grid[0, 0] = 1  # Célula de inicio\n",
        "grid[2, 3] = 2  # Célula de montanha\n",
        "grid[5, 6] = 3  # Célula de areia movediça\n",
        "grid[7, 7] = 4 # Célula de chegada\n",
        "\n",
        "# Desenha o grid\n",
        "desenhar_grid(grid)"
      ],
      "metadata": {
        "colab": {
          "base_uri": "https://localhost:8080/",
          "height": 682
        },
        "id": "8Mm1KjzumpTU",
        "outputId": "6875c18e-6609-45d5-d1ef-9eef7d33f7d4"
      },
      "execution_count": null,
      "outputs": [
        {
          "output_type": "display_data",
          "data": {
            "text/plain": [
              "<Figure size 800x800 with 1 Axes>"
            ],
            "image/png": "[encoded data removed]"
          },
          "metadata": {}
        }
      ]
    },
    {
      "cell_type": "markdown",
      "source": [
        "Função com o conjunto de ações que o agente pode realizar"
      ],
      "metadata": {
        "id": "D2fcQKBJ61d5"
      }
    },
    {
      "cell_type": "code",
      "source": [
        "# Ações possíveis\n",
        "acoes = ['cima', 'baixo', 'esquerda', 'direita']\n",
        "\n",
        "# Função para atualizar a posição do agente\n",
        "def mover_agente(posicao, acao):\n",
        "    if acao == 'cima':\n",
        "        return (max(posicao[0] - 1, 0), posicao[1])\n",
        "    elif acao == 'baixo':\n",
        "        return (min(posicao[0] + 1, len(grid) - 1), posicao[1])\n",
        "    elif acao == 'esquerda':\n",
        "        return (posicao[0], max(posicao[1] - 1, 0))\n",
        "    elif acao == 'direita':\n",
        "        return (posicao[0], min(posicao[1] + 1, len(grid) - 1))\n",
        "    else:\n",
        "        return posicao\n",
        "\n",
        "# Testando a função\n",
        "agente_posicao = (4, 4)\n",
        "nova_posicao = mover_agente(agente_posicao, acoes[3])\n",
        "print(f'Posição original: {agente_posicao}, Nova posição: {nova_posicao}')"
      ],
      "metadata": {
        "colab": {
          "base_uri": "https://localhost:8080/"
        },
        "id": "PbZsWkFIokpg",
        "outputId": "4f745373-b1f0-4079-db1b-0070edbf91e5"
      },
      "execution_count": null,
      "outputs": [
        {
          "output_type": "stream",
          "name": "stdout",
          "text": [
            "Posição original: (4, 4), Nova posição: (4, 5)\n"
          ]
        }
      ]
    },
    {
      "cell_type": "markdown",
      "source": [
        "Função com as recompensas"
      ],
      "metadata": {
        "id": "dzbbWH1k7jHa"
      }
    },
    {
      "cell_type": "code",
      "source": [
        "def receber_recompensa(estado, grid):\n",
        "    x, y = estado\n",
        "    if grid[x, y] == 2: # Recompensa de -10 caso encontre a montanha\n",
        "        return [-10, \"Montanha\"]\n",
        "    elif grid[x, y] == 3: # Recompensa de -100 caso chegue na areia movediça\n",
        "        return [-100, \"Areia movediça\"]\n",
        "    elif grid[x, y] == 4:  # Recompensa de 100 caso chegue ao ponto de chegada\n",
        "        return [100, \"Ponto de chegada\"]\n",
        "    else:\n",
        "        return [-1, \"Estado normal\"]  # Custo para se mover\n",
        "\n",
        "# Testando a função de receber recompensa\n",
        "estado = (7, 7)\n",
        "recompensa = receber_recompensa(estado, grid)\n",
        "print(f'Recompensa de: {recompensa[0]} por chegar ao estado: {recompensa[1]}')"
      ],
      "metadata": {
        "colab": {
          "base_uri": "https://localhost:8080/"
        },
        "id": "v_IdYzYLpatX",
        "outputId": "dfe12162-32ca-4324-a9bf-1f2993128043"
      },
      "execution_count": null,
      "outputs": [
        {
          "output_type": "stream",
          "name": "stdout",
          "text": [
            "Recompensa de: 100 por chegar ao estado: Ponto de chegada\n"
          ]
        }
      ]
    },
    {
      "cell_type": "markdown",
      "source": [
        " Função com a Lógica do Agente e Condições de parada"
      ],
      "metadata": {
        "id": "1dz5oDYm9agg"
      }
    },
    {
      "cell_type": "code",
      "source": [
        "# método auxiliar\n",
        "def obter_acoes(estado, grid):\n",
        "    acoes = []\n",
        "    x, y = estado\n",
        "    if x > 0:\n",
        "        acoes.append(('esquerda', (x - 1, y)))\n",
        "    if x < grid.shape[0] - 1:\n",
        "        acoes.append(('direita', (x + 1, y)))\n",
        "    if y > 0:\n",
        "        acoes.append(('cima', (x, y - 1)))\n",
        "    if y < grid.shape[1] - 1:\n",
        "        acoes.append(('baixo', (x, y + 1)))\n",
        "    return acoes\n",
        "\n",
        "# método que executa a lógica do agente, o agente se move aleatoriamente pelo grid até atingir um número máximo de etapas\n",
        "# ou até chegar a montanha, areia movediça ou o ponto de chegada\n",
        "def logica_do_agente(estado_inicial, grid, passos_maximos=50):\n",
        "    estado_atual = estado_inicial\n",
        "    recompensa_total = 0\n",
        "    numero_passos = 0\n",
        "\n",
        "    while numero_passos < passos_maximos:\n",
        "        acoes = obter_acoes(estado_atual, grid)\n",
        "        if not acoes:\n",
        "            break  # Não há ações disponíveis\n",
        "\n",
        "        # Escolhe uma ação aleatoriamente\n",
        "        acao, proximo_estado = random.choice(acoes)\n",
        "\n",
        "        # Atualiza o estado e a recompensa total\n",
        "        estado_atual = proximo_estado\n",
        "        recompensa = receber_recompensa(estado_atual, grid)\n",
        "        recompensa_total += recompensa[0]\n",
        "        numero_passos += 1\n",
        "\n",
        "        # Verifica as condições de parada\n",
        "        if grid[estado_atual[0], estado_atual[1]] == 2:  # Montanha\n",
        "            print(\"Agente atingiu a montanha!\")\n",
        "            break\n",
        "        elif grid[estado_atual[0], estado_atual[1]] == 3:  # Areia movediça\n",
        "            print(\"Agente caiu na areia movediça!\")\n",
        "            break\n",
        "        elif grid[estado_atual[0], estado_atual[1]] == 4:  # Objetivo\n",
        "            print(\"Agente alcançou o objetivo!\")\n",
        "            break\n",
        "\n",
        "    return recompensa_total\n",
        "\n",
        "# Testando o método criado acima\n",
        "estado_inicial = (0, 0)\n",
        "recompensa_total = logica_do_agente(estado_inicial, grid)\n",
        "print(f\"Recompensa total: {recompensa_total}\")"
      ],
      "metadata": {
        "colab": {
          "base_uri": "https://localhost:8080/"
        },
        "id": "klQ5qhe_rrYJ",
        "outputId": "a347b658-3694-4651-fc74-458b6bef7b1e"
      },
      "execution_count": null,
      "outputs": [
        {
          "output_type": "stream",
          "name": "stdout",
          "text": [
            "Recompensa total: -50\n"
          ]
        }
      ]
    }
  ]
}